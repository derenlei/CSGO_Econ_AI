{
 "cells": [
  {
   "cell_type": "code",
   "execution_count": 244,
   "metadata": {},
   "outputs": [],
   "source": [
    "import numpy as np\n",
    "import pandas as pd\n",
    "data = pd.read_excel('data/action_embedding.xlsx')\n",
    "data = np.array(data)"
   ]
  },
  {
   "cell_type": "code",
   "execution_count": 242,
   "metadata": {},
   "outputs": [
    {
     "name": "stdout",
     "output_type": "stream",
     "text": [
      "['End' 8 0 0 0 0.0 0.0 0.0 0 0 0 0.0 0 nan 0.0 0 0 0 0 0 0 0 0 0 1 1 0]\n",
      "['Desert Eagle' 'R8 Revolver' 'Dual Berettas' 'Five-SeveN' 'Glock-18'\n",
      " 'P2000' 'USP-S' 'P250' 'CZ75 Auto' 'Tec-9' 'Mag-7' 'Nova' 'Sawed-Off'\n",
      " 'XM1014' 'PP-Bizon' 'MAC-10' 'MP7' 'MP5-SD' 'MP9' 'P90' 'UMP-45' 'AK-47'\n",
      " 'AUG' 'FAMAS' 'Galil AR' 'M4A4' 'M4A1-S' 'SG 553' 'M249' 'Negev' 'AWP'\n",
      " 'G3SG1' 'SCAR-20' 'SSG 08' 'High Explosive Grenade' 'Decoy Grenade'\n",
      " 'Molotov' 'Incendiary Grenade' 'Flashbang' 'Smoke Grenade' 'Vest'\n",
      " 'Vesthelm' 'Zeus x27' 'Defuse Kit' 'End']\n"
     ]
    }
   ],
   "source": [
    "print(data[-1])\n",
    "name = data[:,0]\n",
    "name[-1] = 'End'\n",
    "# data = data[:-11,1:-10] # only guns\n",
    "data = data[:,1:]\n",
    "print(name)"
   ]
  },
  {
   "cell_type": "code",
   "execution_count": 248,
   "metadata": {},
   "outputs": [
    {
     "name": "stdout",
     "output_type": "stream",
     "text": [
      "[700 600 400 500 200 200 200 300 500 500 1300 1050 1100 2000 1400 1050\n",
      " 1500 1500 1250 2350 1200 2700 3300 2050 1800 3100 3100 3000 5200 1700\n",
      " 4750 5000 5000 1700 300 50 400 600 200 300 650 1000 200 400 0]\n"
     ]
    }
   ],
   "source": [
    "print(data[:,2])\n",
    "np.save('data/action_money.npy', data[:,2])"
   ]
  },
  {
   "cell_type": "code",
   "execution_count": 243,
   "metadata": {},
   "outputs": [],
   "source": [
    "np.save('action_name.npy', name)"
   ]
  },
  {
   "cell_type": "code",
   "execution_count": 211,
   "metadata": {},
   "outputs": [],
   "source": [
    "# Convert discrete attribute to numbers\n",
    "\n",
    "# Hold to shoot\n",
    "for i in range(len(data)):\n",
    "    if data[i][12] == 'No': data[i,12] = 1\n",
    "    elif data[i][12] == 'Yes': data[i,12] = 2\n",
    "    else:  data[i][12] = 0\n",
    "# data[data == float('nan')] = 0\n",
    "# data[data == 'No'] = 1\n",
    "# data[data == 'Yes'] = 2\n",
    "\n",
    "# Tracers\n",
    "data[data == 'None'] = 0\n",
    "data[data == 'Every Bullet'] = 1\n",
    "data[data == 'Every Third'] = 2\n",
    "\n",
    "# Recoil pattern\n",
    "data[data == 'Random'] = 0\n",
    "data[data == 'Set Pattern'] = 1\n",
    "\n",
    "# remove gun name"
   ]
  },
  {
   "cell_type": "code",
   "execution_count": 212,
   "metadata": {},
   "outputs": [
    {
     "name": "stdout",
     "output_type": "stream",
     "text": [
      "[0 700 300 63 0.932 266.6666667 2.0 7 35 230 0.6 4096 1 48.2 60 0 0 0 0 0\n",
      " 0 0 0 0 5 1]\n"
     ]
    }
   ],
   "source": [
    "print(data[0])"
   ]
  },
  {
   "cell_type": "code",
   "execution_count": 213,
   "metadata": {},
   "outputs": [],
   "source": [
    "from sklearn.preprocessing import normalize\n",
    "data_norm = data\n",
    "for i in range(data.shape[1]):\n",
    "    #if i != 13:\n",
    "    data_norm[:,i] = data_norm[:,i] / np.linalg.norm(data_norm[:,i])"
   ]
  },
  {
   "cell_type": "code",
   "execution_count": 217,
   "metadata": {},
   "outputs": [
    {
     "name": "stdout",
     "output_type": "stream",
     "text": [
      "[0.         0.04380029 0.10646602 0.14854414 0.19893438 0.03768544\n",
      " 0.20519567 0.03463463 0.01345707 0.11883842 0.11785681 0.1150848\n",
      " 0.19611614 0.06349135 0.13219981 0.         0.         0.\n",
      " 0.         0.         0.         0.         0.         0.\n",
      " 0.17010345 0.05954913]\n"
     ]
    }
   ],
   "source": [
    "print(data_norm[1].astype(float))"
   ]
  },
  {
   "cell_type": "code",
   "execution_count": 239,
   "metadata": {},
   "outputs": [],
   "source": [
    "np.save('action_embedding.npy', data_norm.astype(float)[:,1:-1])"
   ]
  },
  {
   "cell_type": "code",
   "execution_count": null,
   "metadata": {},
   "outputs": [],
   "source": [
    "# Visualization\n",
    "from sklearn.manifold import TSNE\n",
    "import matplotlib.pyplot as plt\n",
    "import seaborn as sns\n",
    "sns.set()\n",
    "%matplotlib inline\n",
    "\n",
    "def tsne_plot(name, data):\n",
    "    \"Creates and TSNE model and plots it\"\n",
    "    data = data.astype(float)[:,1:-1]\n",
    "    #for i in range(len(data)):\n",
    "    #    print(data[i])\n",
    "    tsne_model = TSNE(perplexity=40, n_components=2, init='pca', n_iter=2500, random_state=23)\n",
    "    new_values = tsne_model.fit_transform(data)\n",
    "    types = ['blue']*10+['green']*4+['red']*7+['burlywood']*7+['orange']*2+['purple']*4+['magenta']*6+['cyan']*4+['black']\n",
    "    print(len(types))\n",
    "    x = []\n",
    "    y = []\n",
    "    for value in new_values:\n",
    "        x.append(value[0])\n",
    "        y.append(value[1])\n",
    "        \n",
    "    plt.figure(figsize=(10, 10)) \n",
    "    for i in range(len(x)):\n",
    "        plt.scatter(x[i],y[i],color = types[i])\n",
    "        plt.annotate(name[i],\n",
    "                     xy=(x[i], y[i]),\n",
    "                     xytext=(5, 2),\n",
    "                     textcoords='offset points',\n",
    "                     ha='right',\n",
    "                     va='bottom',\n",
    "                     color = types[i])\n",
    "    plt.xticks(fontsize=14)\n",
    "    plt.yticks(fontsize=14)\n",
    "    plt.savefig(\"t-SNE.png\", bbox_inches='tight')\n",
    "    plt.show()\n",
    "    \n",
    "tsne_plot(name,data_norm)"
   ]
  },
  {
   "cell_type": "code",
   "execution_count": null,
   "metadata": {},
   "outputs": [],
   "source": [
    "tsne_plot(name,data)"
   ]
  },
  {
   "cell_type": "code",
   "execution_count": null,
   "metadata": {},
   "outputs": [],
   "source": []
  }
 ],
 "metadata": {
  "kernelspec": {
   "display_name": "Python 3",
   "language": "python",
   "name": "python3"
  },
  "language_info": {
   "codemirror_mode": {
    "name": "ipython",
    "version": 3
   },
   "file_extension": ".py",
   "mimetype": "text/x-python",
   "name": "python",
   "nbconvert_exporter": "python",
   "pygments_lexer": "ipython3",
   "version": "3.6.5"
  }
 },
 "nbformat": 4,
 "nbformat_minor": 2
}
