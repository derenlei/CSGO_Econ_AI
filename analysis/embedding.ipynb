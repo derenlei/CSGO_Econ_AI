{
 "cells": [
  {
   "cell_type": "code",
   "execution_count": null,
   "metadata": {},
   "outputs": [],
   "source": [
    "import numpy as np\n",
    "import pandas as pd\n",
    "data = pd.read_excel('data/action_embedding.xlsx')\n",
    "data = np.array(data)"
   ]
  },
  {
   "cell_type": "code",
   "execution_count": null,
   "metadata": {},
   "outputs": [],
   "source": [
    "print(data[-1])\n",
    "name = data[:,0]\n",
    "name[-1] = 'End'\n",
    "# data = data[:-11,1:-10] # only guns\n",
    "data = data[:,1:]\n",
    "print(name)"
   ]
  },
  {
   "cell_type": "code",
   "execution_count": null,
   "metadata": {},
   "outputs": [],
   "source": [
    "print(data[:,2])\n",
    "np.save('data/action_money.npy', data[:,2])"
   ]
  },
  {
   "cell_type": "code",
   "execution_count": null,
   "metadata": {},
   "outputs": [],
   "source": [
    "np.save('action_name.npy', name)"
   ]
  },
  {
   "cell_type": "code",
   "execution_count": null,
   "metadata": {},
   "outputs": [],
   "source": [
    "# Convert discrete attribute to numbers\n",
    "\n",
    "# Hold to shoot\n",
    "for i in range(len(data)):\n",
    "    if data[i][12] == 'No': data[i,12] = 1\n",
    "    elif data[i][12] == 'Yes': data[i,12] = 2\n",
    "    else:  data[i][12] = 0\n",
    "# data[data == float('nan')] = 0\n",
    "# data[data == 'No'] = 1\n",
    "# data[data == 'Yes'] = 2\n",
    "\n",
    "# Tracers\n",
    "data[data == 'None'] = 0\n",
    "data[data == 'Every Bullet'] = 1\n",
    "data[data == 'Every Third'] = 2\n",
    "\n",
    "# Recoil pattern\n",
    "data[data == 'Random'] = 0\n",
    "data[data == 'Set Pattern'] = 1\n",
    "\n",
    "# remove gun name"
   ]
  },
  {
   "cell_type": "code",
   "execution_count": null,
   "metadata": {},
   "outputs": [],
   "source": [
    "print(data[0])"
   ]
  },
  {
   "cell_type": "code",
   "execution_count": null,
   "metadata": {},
   "outputs": [],
   "source": [
    "from sklearn.preprocessing import normalize\n",
    "data_norm = data\n",
    "for i in range(data.shape[1]):\n",
    "    #if i != 13:\n",
    "    data_norm[:,i] = data_norm[:,i] / np.linalg.norm(data_norm[:,i])"
   ]
  },
  {
   "cell_type": "code",
   "execution_count": null,
   "metadata": {},
   "outputs": [],
   "source": [
    "print(data_norm[1].astype(float))"
   ]
  },
  {
   "cell_type": "code",
   "execution_count": null,
   "metadata": {},
   "outputs": [],
   "source": [
    "np.save('action_embedding.npy', data_norm.astype(float)[:,1:-1])"
   ]
  },
  {
   "cell_type": "code",
   "execution_count": null,
   "metadata": {},
   "outputs": [],
   "source": [
    "# Visualization\n",
    "from sklearn.manifold import TSNE\n",
    "import matplotlib.pyplot as plt\n",
    "import seaborn as sns\n",
    "sns.set()\n",
    "%matplotlib inline\n",
    "\n",
    "def tsne_plot(name, data):\n",
    "    \"Creates and TSNE model and plots it\"\n",
    "    data = data.astype(float)[:,1:-1]\n",
    "    #for i in range(len(data)):\n",
    "    #    print(data[i])\n",
    "    tsne_model = TSNE(perplexity=40, n_components=2, init='pca', n_iter=2500, random_state=23)\n",
    "    new_values = tsne_model.fit_transform(data)\n",
    "    types = ['blue']*10+['green']*4+['red']*7+['burlywood']*7+['orange']*2+['purple']*4+['magenta']*6+['cyan']*4+['black']\n",
    "    print(len(types))\n",
    "    x = []\n",
    "    y = []\n",
    "    for value in new_values:\n",
    "        x.append(value[0])\n",
    "        y.append(value[1])\n",
    "        \n",
    "    plt.figure(figsize=(10, 10)) \n",
    "    for i in range(len(x)):\n",
    "        plt.scatter(x[i],y[i],color = types[i])\n",
    "        plt.annotate(name[i],\n",
    "                     xy=(x[i], y[i]),\n",
    "                     xytext=(5, 2),\n",
    "                     textcoords='offset points',\n",
    "                     ha='right',\n",
    "                     va='bottom',\n",
    "                     color = types[i])\n",
    "    plt.xticks(fontsize=14)\n",
    "    plt.yticks(fontsize=14)\n",
    "    plt.savefig(\"t-SNE.pdf\", bbox_inches='tight')\n",
    "    plt.show()\n",
    "    \n",
    "tsne_plot(name,data_norm)"
   ]
  },
  {
   "cell_type": "code",
   "execution_count": null,
   "metadata": {},
   "outputs": [],
   "source": [
    "tsne_plot(name,data)"
   ]
  },
  {
   "cell_type": "code",
   "execution_count": null,
   "metadata": {},
   "outputs": [],
   "source": []
  }
 ],
 "metadata": {
  "kernelspec": {
   "display_name": "Python 3",
   "language": "python",
   "name": "python3"
  },
  "language_info": {
   "codemirror_mode": {
    "name": "ipython",
    "version": 3
   },
   "file_extension": ".py",
   "mimetype": "text/x-python",
   "name": "python",
   "nbconvert_exporter": "python",
   "pygments_lexer": "ipython3",
   "version": "3.6.5"
  }
 },
 "nbformat": 4,
 "nbformat_minor": 2
}
