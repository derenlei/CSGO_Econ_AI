{
 "cells": [
  {
   "cell_type": "code",
   "execution_count": 1,
   "metadata": {},
   "outputs": [],
   "source": [
    "import re\n",
    "import numpy as np\n",
    "\n",
    "from glove import Corpus, Glove\n",
    "from nltk.corpus import gutenberg\n",
    "from multiprocessing import Pool\n",
    "from scipy import spatial"
   ]
  },
  {
   "cell_type": "code",
   "execution_count": 19,
   "metadata": {},
   "outputs": [],
   "source": [
    "sentences = list()\n",
    "with open('data/seq.txt') as f:\n",
    "    for line in f:\n",
    "        sentences.append(line.split())"
   ]
  },
  {
   "cell_type": "code",
   "execution_count": 22,
   "metadata": {},
   "outputs": [],
   "source": [
    "corpus = Corpus()"
   ]
  },
  {
   "cell_type": "code",
   "execution_count": 23,
   "metadata": {},
   "outputs": [],
   "source": [
    "corpus.fit(sentences, window = 3)  "
   ]
  },
  {
   "cell_type": "code",
   "execution_count": 24,
   "metadata": {},
   "outputs": [],
   "source": [
    "glove = Glove(no_components = 100, learning_rate = 0.05)"
   ]
  },
  {
   "cell_type": "code",
   "execution_count": 25,
   "metadata": {},
   "outputs": [
    {
     "name": "stdout",
     "output_type": "stream",
     "text": [
      "Performing 30 training epochs with 40 threads\n",
      "Epoch 0\n",
      "Epoch 1\n",
      "Epoch 2\n",
      "Epoch 3\n",
      "Epoch 4\n",
      "Epoch 5\n",
      "Epoch 6\n",
      "Epoch 7\n",
      "Epoch 8\n",
      "Epoch 9\n",
      "Epoch 10\n",
      "Epoch 11\n",
      "Epoch 12\n",
      "Epoch 13\n",
      "Epoch 14\n",
      "Epoch 15\n",
      "Epoch 16\n",
      "Epoch 17\n",
      "Epoch 18\n",
      "Epoch 19\n",
      "Epoch 20\n",
      "Epoch 21\n",
      "Epoch 22\n",
      "Epoch 23\n",
      "Epoch 24\n",
      "Epoch 25\n",
      "Epoch 26\n",
      "Epoch 27\n",
      "Epoch 28\n",
      "Epoch 29\n"
     ]
    }
   ],
   "source": [
    "glove.fit(matrix = corpus.matrix, epochs = 30, no_threads = Pool()._processes, verbose = True)"
   ]
  },
  {
   "cell_type": "code",
   "execution_count": 26,
   "metadata": {},
   "outputs": [],
   "source": [
    "glove.add_dictionary(corpus.dictionary) "
   ]
  },
  {
   "cell_type": "code",
   "execution_count": 27,
   "metadata": {},
   "outputs": [],
   "source": [
    "glove.save('action_embedding')"
   ]
  },
  {
   "cell_type": "code",
   "execution_count": 28,
   "metadata": {},
   "outputs": [
    {
     "data": {
      "text/plain": [
       "[('7', 0.9864447300271991),\n",
       " ('3', 0.9849034121742457),\n",
       " ('22', 0.9792881420632599),\n",
       " ('33', 0.9790973417328133),\n",
       " ('30', 0.9785577458293044),\n",
       " ('18', 0.9771950763990804),\n",
       " ('25', 0.976496495476484),\n",
       " ('8', 0.9748948789631471),\n",
       " ('26', 0.9738291855722381)]"
      ]
     },
     "execution_count": 28,
     "metadata": {},
     "output_type": "execute_result"
    }
   ],
   "source": [
    "glove.most_similar('0', number = 10)"
   ]
  },
  {
   "cell_type": "markdown",
   "metadata": {},
   "source": [
    "# Start"
   ]
  },
  {
   "cell_type": "code",
   "execution_count": 30,
   "metadata": {},
   "outputs": [],
   "source": [
    "from gensim.test.utils import common_texts, get_tmpfile\n",
    "from gensim.models import Word2Vec"
   ]
  },
  {
   "cell_type": "code",
   "execution_count": 42,
   "metadata": {},
   "outputs": [],
   "source": [
    "model = Word2Vec(sentences = sentences, size = 30, sg = 1, window = 3, min_count = 1, iter = 10, workers = Pool()._processes)\n",
    "model.init_sims(replace = True)"
   ]
  },
  {
   "cell_type": "code",
   "execution_count": 43,
   "metadata": {},
   "outputs": [
    {
     "name": "stderr",
     "output_type": "stream",
     "text": [
      "/opt/anaconda3/lib/python3.6/site-packages/ipykernel_launcher.py:1: DeprecationWarning: Call to deprecated `most_similar` (Method will be removed in 4.0.0, use self.wv.most_similar() instead).\n",
      "  \"\"\"Entry point for launching an IPython kernel.\n"
     ]
    },
    {
     "data": {
      "text/plain": [
       "[('25', 0.9945681095123291),\n",
       " ('20', 0.994225263595581),\n",
       " ('22', 0.9934361577033997),\n",
       " ('30', 0.9933800101280212),\n",
       " ('15', 0.989237904548645),\n",
       " ('18', 0.9892125129699707),\n",
       " ('26', 0.9882505536079407),\n",
       " ('27', 0.9881211519241333),\n",
       " ('24', 0.9843871593475342),\n",
       " ('23', 0.9831479787826538)]"
      ]
     },
     "execution_count": 43,
     "metadata": {},
     "output_type": "execute_result"
    }
   ],
   "source": [
    "model.most_similar('21')"
   ]
  },
  {
   "cell_type": "code",
   "execution_count": 44,
   "metadata": {},
   "outputs": [],
   "source": [
    "model.save('word2vec_action')"
   ]
  },
  {
   "cell_type": "code",
   "execution_count": 45,
   "metadata": {},
   "outputs": [
    {
     "name": "stderr",
     "output_type": "stream",
     "text": [
      "/opt/anaconda3/lib/python3.6/site-packages/ipykernel_launcher.py:1: DeprecationWarning: Call to deprecated `__getitem__` (Method will be removed in 4.0.0, use self.wv.__getitem__() instead).\n",
      "  \"\"\"Entry point for launching an IPython kernel.\n"
     ]
    },
    {
     "data": {
      "text/plain": [
       "array([-0.10627876,  0.20801687,  0.10523343, -0.02357558,  0.03904658,\n",
       "        0.11606155,  0.27648425,  0.25002238, -0.12533095, -0.10557608,\n",
       "        0.14057897,  0.2904981 ,  0.1475683 , -0.01367142, -0.06092558,\n",
       "        0.3406241 ,  0.38041466, -0.15061484, -0.09972201, -0.28393093,\n",
       "        0.11529254, -0.04571482,  0.1046583 , -0.14995445, -0.01876306,\n",
       "       -0.12263754,  0.12035027,  0.07645234, -0.40475628, -0.02857185],\n",
       "      dtype=float32)"
      ]
     },
     "execution_count": 45,
     "metadata": {},
     "output_type": "execute_result"
    }
   ],
   "source": [
    "model['0']"
   ]
  },
  {
   "cell_type": "code",
   "execution_count": 52,
   "metadata": {},
   "outputs": [
    {
     "name": "stdout",
     "output_type": "stream",
     "text": [
      "44\n"
     ]
    },
    {
     "name": "stderr",
     "output_type": "stream",
     "text": [
      "/opt/anaconda3/lib/python3.6/site-packages/ipykernel_launcher.py:3: DeprecationWarning: Call to deprecated `__getitem__` (Method will be removed in 4.0.0, use self.wv.__getitem__() instead).\n",
      "  This is separate from the ipykernel package so we can avoid doing imports until\n"
     ]
    }
   ],
   "source": [
    "embedding = list()\n",
    "for i in range(44):\n",
    "    embedding.append(model[str(i)].tolist())\n",
    "    \n",
    "print(len(embedding))"
   ]
  },
  {
   "cell_type": "code",
   "execution_count": 57,
   "metadata": {},
   "outputs": [],
   "source": [
    "import random\n",
    "end = list()\n",
    "for i in range(30):\n",
    "    end.append(np.random.uniform(-0.001, 0.001))"
   ]
  },
  {
   "cell_type": "code",
   "execution_count": 59,
   "metadata": {},
   "outputs": [
    {
     "name": "stdout",
     "output_type": "stream",
     "text": [
      "[0.00031777604989831516, -0.00010384280964472197, -0.00028922530195052084, 0.0006056389744330799, -0.0003566811215877366, -0.00020467742533369644, 0.0001517672729416462, -0.0006386224208364017, 0.0006654260391985923, 0.0001892394919251585, -0.00013906401317296765, 0.000989583823719633, -0.0006921665045074639, -0.0003504843649232476, -0.0005417063055356635, -0.0009581115366050102, 0.0005035528695901711, 0.0006929942589808096, -0.00019069438595329064, -0.00010159000827080703, 0.000676731883937169, 0.00022589998394137488, -0.0003132223777669509, 0.00024043648290391598, 0.0007087110621362836, -0.0005887411744721629, 0.0004303460991713689, 0.0002927592152863379, 0.000711548199187948, -1.4919968032202097e-05]\n"
     ]
    }
   ],
   "source": [
    "print(end)\n",
    "embedding.append(end)"
   ]
  },
  {
   "cell_type": "code",
   "execution_count": 69,
   "metadata": {},
   "outputs": [
    {
     "name": "stdout",
     "output_type": "stream",
     "text": [
      "<class 'numpy.ndarray'>\n"
     ]
    }
   ],
   "source": [
    "#embedding = np.array(embedding)\n",
    "print(type(embedding))\n",
    "np.save('data/action_embedding2.npy', embedding)"
   ]
  },
  {
   "cell_type": "code",
   "execution_count": null,
   "metadata": {},
   "outputs": [],
   "source": [
    "# Visualization\n",
    "from sklearn.manifold import TSNE\n",
    "import matplotlib.pyplot as plt\n",
    "import seaborn as sns\n",
    "sns.set()\n",
    "%matplotlib inline\n",
    "\n",
    "def tsne_plot(name, data):\n",
    "    \"Creates and TSNE model and plots it\"\n",
    "    data = data.astype(float)[:,1:-1]\n",
    "    #for i in range(len(data)):\n",
    "    #    print(data[i])\n",
    "    tsne_model = TSNE(perplexity=40, n_components=2, init='pca', n_iter=2500, random_state=23)\n",
    "    new_values = tsne_model.fit_transform(data)\n",
    "    types = ['blue']*10+['green']*4+['red']*7+['burlywood']*7+['orange']*2+['purple']*4+['magenta']*6+['cyan']*4+['black']\n",
    "    print(len(types))\n",
    "    x = []\n",
    "    y = []\n",
    "    for value in new_values:\n",
    "        x.append(value[0])\n",
    "        y.append(value[1])\n",
    "        \n",
    "    plt.figure(figsize=(10, 10)) \n",
    "    for i in range(len(x)):\n",
    "        plt.scatter(x[i],y[i],color = types[i])\n",
    "        plt.annotate(name[i],\n",
    "                     xy=(x[i], y[i]),\n",
    "                     xytext=(5, 2),\n",
    "                     textcoords='offset points',\n",
    "                     ha='right',\n",
    "                     va='bottom',\n",
    "                     color = types[i])\n",
    "    plt.xticks(fontsize=14)\n",
    "    plt.yticks(fontsize=14)\n",
    "    plt.savefig(\"t-SNE.png\", bbox_inches='tight')\n",
    "    plt.show()\n",
    "    \n",
    "name = np.load('data/action_name.npy', allow_pickle=True)\n",
    "print(name)\n",
    "tsne_plot(name,embedding)"
   ]
  },
  {
   "cell_type": "code",
   "execution_count": null,
   "metadata": {},
   "outputs": [],
   "source": []
  }
 ],
 "metadata": {
  "kernelspec": {
   "display_name": "Python 3",
   "language": "python",
   "name": "python3"
  },
  "language_info": {
   "codemirror_mode": {
    "name": "ipython",
    "version": 3
   },
   "file_extension": ".py",
   "mimetype": "text/x-python",
   "name": "python",
   "nbconvert_exporter": "python",
   "pygments_lexer": "ipython3",
   "version": "3.6.5"
  }
 },
 "nbformat": 4,
 "nbformat_minor": 2
}
