{
 "cells": [
  {
   "cell_type": "code",
   "execution_count": 2,
   "metadata": {},
   "outputs": [],
   "source": [
    "import numpy as np\n",
    "import seaborn as sn\n",
    "import matplotlib.pyplot as plot"
   ]
  },
  {
   "cell_type": "code",
   "execution_count": 6,
   "metadata": {},
   "outputs": [],
   "source": [
    "data = np.load('0-5999p.npy', allow_pickle=True)"
   ]
  },
  {
   "cell_type": "code",
   "execution_count": 33,
   "metadata": {},
   "outputs": [],
   "source": [
    "dev_data = data[1]\n",
    "labels = []\n",
    "for game in dev_data:\n",
    "    for j in game:\n",
    "        labels.append(j[-1])\n"
   ]
  },
  {
   "cell_type": "code",
   "execution_count": 34,
   "metadata": {},
   "outputs": [
    {
     "name": "stdout",
     "output_type": "stream",
     "text": [
      "19368\n",
      "840\n"
     ]
    }
   ],
   "source": [
    "print(len(labels))\n",
    "print(len(dev_data))"
   ]
  },
  {
   "cell_type": "code",
   "execution_count": 51,
   "metadata": {},
   "outputs": [
    {
     "name": "stdout",
     "output_type": "stream",
     "text": [
      "[0, 2, 7, 8, 15, 36, 38, 38, 39, 41]\n",
      "[0, 8, 8, 8, 8, 37, 38, 39, 43]\n",
      "[20284, 51099, 2957, 174, 38, 2, 0, 0, 0, 0]\n",
      "[14171, 17133, 15090, 12661, 15499, 0, 0, 0, 0, 0]\n",
      "[60276, 11835, 2306, 137, 0, 0, 0, 0, 0, 0]\n"
     ]
    }
   ],
   "source": [
    "# 0-33 guns, else\n",
    "guns = [0] * 10\n",
    "grenades = [0] * 10\n",
    "others = [0] * 10\n",
    "\n",
    "for label in labels:\n",
    "    count_gun, count_grenade, count_others = 0, 0, 0\n",
    "    for element in label:\n",
    "        if element <=33:\n",
    "            count_gun += 1\n",
    "        elif element <= 39:\n",
    "            count_grenade += 1\n",
    "        else:\n",
    "            count_others += 1\n",
    "        guns[count_gun] += 1\n",
    "        grenades[count_grenade] += 1\n",
    "        others[count_others] += 1\n",
    "        if count_gun >= 5:\n",
    "            print(label)\n",
    "            break\n",
    "print(guns)\n",
    "print(grenades)\n",
    "print(others)\n",
    "#print(label)"
   ]
  },
  {
   "cell_type": "code",
   "execution_count": null,
   "metadata": {},
   "outputs": [],
   "source": []
  }
 ],
 "metadata": {
  "kernelspec": {
   "display_name": "Python 3",
   "language": "python",
   "name": "python3"
  },
  "language_info": {
   "codemirror_mode": {
    "name": "ipython",
    "version": 3
   },
   "file_extension": ".py",
   "mimetype": "text/x-python",
   "name": "python",
   "nbconvert_exporter": "python",
   "pygments_lexer": "ipython3",
   "version": "3.6.5"
  }
 },
 "nbformat": 4,
 "nbformat_minor": 2
}
