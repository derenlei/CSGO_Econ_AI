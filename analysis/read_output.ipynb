{
 "cells": [
  {
   "cell_type": "code",
   "execution_count": null,
   "metadata": {},
   "outputs": [],
   "source": [
    "import pickle"
   ]
  },
  {
   "cell_type": "code",
   "execution_count": null,
   "metadata": {},
   "outputs": [],
   "source": [
    "with open('outputs.pkl', 'rb') as f:\n",
    "    data = pickle.load(f)"
   ]
  },
  {
   "cell_type": "code",
   "execution_count": null,
   "metadata": {},
   "outputs": [],
   "source": [
    "print(data.keys())"
   ]
  },
  {
   "cell_type": "code",
   "execution_count": null,
   "metadata": {},
   "outputs": [],
   "source": [
    "import numpy as np"
   ]
  },
  {
   "cell_type": "code",
   "execution_count": null,
   "metadata": {},
   "outputs": [],
   "source": [
    "dic = np.load(\"data/action_name.npy\", allow_pickle=True)\n",
    "print(dic)"
   ]
  },
  {
   "cell_type": "code",
   "execution_count": null,
   "metadata": {},
   "outputs": [],
   "source": [
    "price = np.load(\"data/action_money.npy\", allow_pickle=True)"
   ]
  },
  {
   "cell_type": "code",
   "execution_count": null,
   "metadata": {},
   "outputs": [],
   "source": [
    "def index2name(i_list):\n",
    "    money = 0\n",
    "    weapon = []\n",
    "    for n in i_list:\n",
    "        weapon.append(dic[n])\n",
    "        money += price[n]\n",
    "    return money, weapon"
   ]
  },
  {
   "cell_type": "code",
   "execution_count": null,
   "metadata": {},
   "outputs": [],
   "source": [
    "for i in range(len(data[\"actions_output\"][0])):  \n",
    "#     print(data[\"actions_output\"][0])\n",
    "    print(\"output:\", index2name(data[\"actions_output\"][0][i]))\n",
    "    print(\"label:\", index2name(data[\"actions_label\"][0][i]))\n",
    "    print()"
   ]
  },
  {
   "cell_type": "code",
   "execution_count": null,
   "metadata": {},
   "outputs": [],
   "source": [
    "for i in range(len(data[\"actions_output\"][1])):  \n",
    "#     print(data[\"actions_output\"][0])\n",
    "    print(\"output:\", index2name(data[\"actions_output\"][1][i]))\n",
    "    print(\"label:\", index2name(data[\"actions_label\"][1][i]))\n",
    "    print()"
   ]
  },
  {
   "cell_type": "code",
   "execution_count": null,
   "metadata": {},
   "outputs": [],
   "source": [
    "action_cap = np.load(\"data/action_capacity.npy\", allow_pickle=True)\n",
    "print(action_cap[38])"
   ]
  },
  {
   "cell_type": "code",
   "execution_count": null,
   "metadata": {},
   "outputs": [],
   "source": [
    "with open('outputs_5shot_embedding2.pkl', 'rb') as f:\n",
    "    data_5shot_e2 = pickle.load(f)"
   ]
  },
  {
   "cell_type": "code",
   "execution_count": null,
   "metadata": {},
   "outputs": [],
   "source": [
    "for n in range(10):\n",
    "    for i in range(len(data_5shot_e2[\"actions_output\"][n])):  \n",
    "#     print(data[\"actions_output\"][0])\n",
    "        print(\"output:\", index2name(data_5shot_e2[\"actions_output\"][n][i]))\n",
    "        print(\"label:\", index2name(data_5shot_e2[\"actions_label\"][n][i]))\n",
    "        print()"
   ]
  },
  {
   "cell_type": "code",
   "execution_count": null,
   "metadata": {},
   "outputs": [],
   "source": [
    "with open('outputs_5shot_embedding2_mask.pkl', 'rb') as f:\n",
    "    data_5shot_e2_mask = pickle.load(f)"
   ]
  },
  {
   "cell_type": "code",
   "execution_count": null,
   "metadata": {},
   "outputs": [],
   "source": [
    "print(\"5shot_e2_mask\")\n",
    "for n in range(10):\n",
    "    for i in range(len(data_5shot_e2_mask[\"actions_output\"][n])):  \n",
    "        money, weapon = index2name(data_5shot_e2_mask[\"actions_output\"][n][i])\n",
    "        print(\"output:\", weapon, money)\n",
    "        money, weapon = index2name(data_5shot_e2_mask[\"actions_label\"][n][i])\n",
    "        print(\"label:\", weapon, money)\n",
    "        print()"
   ]
  },
  {
   "cell_type": "code",
   "execution_count": null,
   "metadata": {},
   "outputs": [],
   "source": [
    "print(\"5shot_e2_mask\")\n",
    "r = 0.0\n",
    "t = 0\n",
    "for n in range(10):\n",
    "    for i in range(len(data_5shot_e2_mask[\"actions_output\"][n])):  \n",
    "        m, weapon = index2name(data_5shot_e2_mask[\"actions_output\"][n][i])\n",
    "        m_l, weapon = index2name(data_5shot_e2_mask[\"actions_label\"][n][i])\n",
    "        if m_l != 0:\n",
    "            r += m / m_l\n",
    "            t += 1\n",
    "\n",
    "print(r / t)"
   ]
  },
  {
   "cell_type": "code",
   "execution_count": null,
   "metadata": {},
   "outputs": [],
   "source": [
    "with open('outputs_5shot_emb2_weighed.pkl', 'rb') as f:\n",
    "    data_5shot_e2_w = pickle.load(f)\n",
    "\n",
    "print(\"5shot_emb2_weighted\")\n",
    "for n in range(10):\n",
    "    for i in range(len(data_5shot_e2_w[\"actions_output\"][n])):\n",
    "        money, weapon = index2name(data_5shot_e2_w[\"actions_output\"][n][i])\n",
    "        print(\"output:\", weapon, money)\n",
    "        money, weapon = index2name(data_5shot_e2_w[\"actions_label\"][n][i])\n",
    "        print(\"label:\", weapon, money)\n",
    "        print()"
   ]
  },
  {
   "cell_type": "code",
   "execution_count": null,
   "metadata": {},
   "outputs": [],
   "source": [
    "print(\"5shot_emb2_weighted\")\n",
    "r = 0.0\n",
    "t = 0\n",
    "for n in range(10):\n",
    "    for i in range(len(data_5shot_e2_w[\"actions_output\"][n])):  \n",
    "        m, weapon = index2name(data_5shot_e2_w[\"actions_output\"][n][i])\n",
    "        m_l, weapon = index2name(data_5shot_e2_w[\"actions_label\"][n][i])\n",
    "        if m_l != 0:\n",
    "            r += m / m_l\n",
    "            t += 1\n",
    "\n",
    "print(r / t)"
   ]
  },
  {
   "cell_type": "code",
   "execution_count": null,
   "metadata": {},
   "outputs": [],
   "source": [
    "with open('outputs_5shot_emb2_attn2_weighed.pkl', 'rb') as f:\n",
    "    data_5shot_e2_attn2_w = pickle.load(f)\n",
    "\n",
    "print(\"5shot_emb2_attn2_weighted\")\n",
    "for n in range(10):\n",
    "    for i in range(len(data_5shot_e2_attn2_w[\"actions_output\"][n])):  \n",
    "#     print(data[\"actions_output\"][0])\n",
    "        money, weapon = index2name(data_5shot_e2_attn2_w[\"actions_output\"][n][i])\n",
    "        print(\"output:\", weapon, money)\n",
    "        money, weapon = index2name(data_5shot_e2_attn2_w[\"actions_label\"][n][i])\n",
    "        print(\"label:\", weapon, money)\n",
    "        print()"
   ]
  },
  {
   "cell_type": "code",
   "execution_count": null,
   "metadata": {},
   "outputs": [],
   "source": [
    "print(\"5shot_emb2_attn2_weighted\")\n",
    "r = 0.0\n",
    "t = 0\n",
    "for n in range(10):\n",
    "    for i in range(len(data_5shot_e2_attn2_w[\"actions_output\"][n])):  \n",
    "        m, weapon = index2name(data_5shot_e2_attn2_w[\"actions_output\"][n][i])\n",
    "        m_l, weapon = index2name(data_5shot_e2_attn2_w[\"actions_label\"][n][i])\n",
    "        if m_l != 0:\n",
    "            r += m / m_l\n",
    "            t += 1\n",
    "\n",
    "print(r / t)"
   ]
  },
  {
   "cell_type": "code",
   "execution_count": null,
   "metadata": {},
   "outputs": [],
   "source": []
  }
 ],
 "metadata": {
  "kernelspec": {
   "display_name": "Python 3",
   "language": "python",
   "name": "python3"
  },
  "language_info": {
   "codemirror_mode": {
    "name": "ipython",
    "version": 3
   },
   "file_extension": ".py",
   "mimetype": "text/x-python",
   "name": "python",
   "nbconvert_exporter": "python",
   "pygments_lexer": "ipython3",
   "version": "3.6.5"
  }
 },
 "nbformat": 4,
 "nbformat_minor": 2
}
