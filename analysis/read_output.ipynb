{
 "cells": [
  {
   "cell_type": "code",
   "execution_count": 32,
   "metadata": {},
   "outputs": [],
   "source": [
    "import pickle"
   ]
  },
  {
   "cell_type": "code",
   "execution_count": 3,
   "metadata": {},
   "outputs": [],
   "source": [
    "with open('outputs.pkl', 'rb') as f:\n",
    "    data = pickle.load(f)"
   ]
  },
  {
   "cell_type": "code",
   "execution_count": 4,
   "metadata": {},
   "outputs": [
    {
     "name": "stdout",
     "output_type": "stream",
     "text": [
      "dict_keys(['loss', 'losses_mean', 'accuracies', 'accuracies_mean', 'actions_output', 'actions_label'])\n"
     ]
    }
   ],
   "source": [
    "print(data.keys())"
   ]
  },
  {
   "cell_type": "code",
   "execution_count": 5,
   "metadata": {},
   "outputs": [],
   "source": [
    "import numpy as np"
   ]
  },
  {
   "cell_type": "code",
   "execution_count": 6,
   "metadata": {},
   "outputs": [
    {
     "name": "stdout",
     "output_type": "stream",
     "text": [
      "['Desert Eagle' 'R8 Revolver' 'Dual Berettas' 'Five-SeveN' 'Glock-18'\n",
      " 'P2000' 'USP-S' 'P250' 'CZ75-Auto' 'Tec-9' 'MAG-7' 'Nova' 'Sawed-Off'\n",
      " 'XM1014' 'PP-Bizon' 'MAC-10' 'MP7' 'MP5-SD' 'MP9' 'P90' 'UMP-45' 'AK-47'\n",
      " 'AUG' 'FAMAS' 'Galil AR' 'M4A4' 'M4A1-S' 'SG 553' 'M249' 'Negev' 'AWP'\n",
      " 'G3SG1' 'SCAR-20' 'SSG 08' 'High Explosive Grenade' 'Decoy Grenade'\n",
      " 'Molotov' 'Incendiary Grenade' 'Flashbang' 'Smoke Grenade' 'vest'\n",
      " 'vesthelm' 'Zeus x27' 'defuser' 'End']\n"
     ]
    }
   ],
   "source": [
    "dic = np.load(\"data/action_name.npy\", allow_pickle=True)\n",
    "print(dic)"
   ]
  },
  {
   "cell_type": "code",
   "execution_count": 45,
   "metadata": {},
   "outputs": [],
   "source": [
    "price = np.load(\"data/action_money.npy\", allow_pickle=True)"
   ]
  },
  {
   "cell_type": "code",
   "execution_count": 46,
   "metadata": {},
   "outputs": [],
   "source": [
    "def index2name(i_list):\n",
    "    money = 0\n",
    "    weapon = []\n",
    "    for n in i_list:\n",
    "        weapon.append(dic[n])\n",
    "        money += price[n]\n",
    "    return money, weapon"
   ]
  },
  {
   "cell_type": "code",
   "execution_count": 8,
   "metadata": {},
   "outputs": [
    {
     "name": "stdout",
     "output_type": "stream",
     "text": [
      "output: ['AUG', 'Smoke Grenade']\n",
      "label: ['vesthelm', 'defuser', 'Incendiary Grenade', 'Smoke Grenade', 'High Explosive Grenade', 'Flashbang']\n",
      "\n",
      "output: ['Flashbang', 'vest']\n",
      "label: ['Smoke Grenade', 'High Explosive Grenade', 'Flashbang']\n",
      "\n",
      "output: ['vesthelm', 'Flashbang', 'Flashbang', 'Flashbang']\n",
      "label: ['USP-S', 'vesthelm', 'AUG', 'Incendiary Grenade', 'High Explosive Grenade', 'Flashbang', 'defuser']\n",
      "\n",
      "output: ['Flashbang', 'UMP-45']\n",
      "label: ['vesthelm', 'defuser', 'Incendiary Grenade', 'Smoke Grenade', 'High Explosive Grenade', 'Flashbang']\n",
      "\n",
      "output: ['Flashbang', 'Flashbang']\n",
      "label: ['Smoke Grenade', 'vest']\n",
      "\n",
      "output: ['AUG', 'Smoke Grenade', 'Flashbang']\n",
      "label: []\n",
      "\n",
      "output: ['Flashbang', 'Flashbang', 'Flashbang', 'Flashbang']\n",
      "label: ['P250']\n",
      "\n",
      "output: ['Smoke Grenade', 'vesthelm', 'Flashbang', 'Flashbang', 'Flashbang']\n",
      "label: ['AUG', 'AUG', 'Incendiary Grenade', 'Smoke Grenade']\n",
      "\n",
      "output: ['Flashbang', 'Flashbang', 'Flashbang', 'Flashbang']\n",
      "label: ['Smoke Grenade']\n",
      "\n"
     ]
    }
   ],
   "source": [
    "for i in range(len(data[\"actions_output\"][0])):  \n",
    "#     print(data[\"actions_output\"][0])\n",
    "    print(\"output:\", index2name(data[\"actions_output\"][0][i]))\n",
    "    print(\"label:\", index2name(data[\"actions_label\"][0][i]))\n",
    "    print()"
   ]
  },
  {
   "cell_type": "code",
   "execution_count": 9,
   "metadata": {},
   "outputs": [
    {
     "name": "stdout",
     "output_type": "stream",
     "text": [
      "output: ['Smoke Grenade', 'AWP', 'Molotov', 'P2000', 'FAMAS', 'MP7', 'Decoy Grenade', 'defuser', 'R8 Revolver', 'XM1014']\n",
      "label: ['vest', 'Desert Eagle']\n",
      "\n",
      "output: ['vesthelm', 'Flashbang']\n",
      "label: ['AK-47', 'vesthelm', 'Molotov', 'Smoke Grenade', 'High Explosive Grenade', 'Flashbang']\n",
      "\n",
      "output: ['vesthelm', 'Flashbang']\n",
      "label: ['AK-47', 'vesthelm', 'Smoke Grenade']\n",
      "\n",
      "output: ['Smoke Grenade']\n",
      "label: ['AK-47', 'vesthelm', 'Flashbang', 'Flashbang']\n",
      "\n",
      "output: ['vesthelm']\n",
      "label: ['AK-47', 'vesthelm', 'Flashbang', 'Flashbang']\n",
      "\n",
      "output: ['vesthelm', 'CZ75-Auto']\n",
      "label: ['vesthelm', 'Desert Eagle', 'Molotov', 'Smoke Grenade', 'Flashbang', 'Flashbang']\n",
      "\n",
      "output: ['Flashbang', 'Flashbang']\n",
      "label: ['Glock-18', 'AK-47', 'vesthelm', 'Smoke Grenade']\n",
      "\n",
      "output: ['vesthelm']\n",
      "label: ['vesthelm', 'UMP-45', 'Smoke Grenade', 'High Explosive Grenade', 'Flashbang', 'Flashbang']\n",
      "\n",
      "output: ['vesthelm']\n",
      "label: ['AK-47', 'vesthelm', 'Smoke Grenade', 'Flashbang']\n",
      "\n"
     ]
    }
   ],
   "source": [
    "for i in range(len(data[\"actions_output\"][1])):  \n",
    "#     print(data[\"actions_output\"][0])\n",
    "    print(\"output:\", index2name(data[\"actions_output\"][1][i]))\n",
    "    print(\"label:\", index2name(data[\"actions_label\"][1][i]))\n",
    "    print()"
   ]
  },
  {
   "cell_type": "code",
   "execution_count": 10,
   "metadata": {},
   "outputs": [
    {
     "name": "stdout",
     "output_type": "stream",
     "text": [
      "2\n"
     ]
    }
   ],
   "source": [
    "action_cap = np.load(\"data/action_capacity.npy\", allow_pickle=True)\n",
    "print(action_cap[38])"
   ]
  },
  {
   "cell_type": "code",
   "execution_count": 29,
   "metadata": {},
   "outputs": [],
   "source": [
    "with open('outputs_5shot_embedding2.pkl', 'rb') as f:\n",
    "    data_5shot_e2 = pickle.load(f)"
   ]
  },
  {
   "cell_type": "code",
   "execution_count": null,
   "metadata": {},
   "outputs": [],
   "source": [
    "for n in range(10):\n",
    "    for i in range(len(data_5shot_e2[\"actions_output\"][n])):  \n",
    "#     print(data[\"actions_output\"][0])\n",
    "        print(\"output:\", index2name(data_5shot_e2[\"actions_output\"][n][i]))\n",
    "        print(\"label:\", index2name(data_5shot_e2[\"actions_label\"][n][i]))\n",
    "        print()"
   ]
  },
  {
   "cell_type": "code",
   "execution_count": 33,
   "metadata": {},
   "outputs": [],
   "source": [
    "with open('outputs_5shot_embedding2_mask.pkl', 'rb') as f:\n",
    "    data_5shot_e2_mask = pickle.load(f)"
   ]
  },
  {
   "cell_type": "code",
   "execution_count": null,
   "metadata": {},
   "outputs": [],
   "source": [
    "print(\"5shot_e2_mask\")\n",
    "for n in range(10):\n",
    "    for i in range(len(data_5shot_e2_mask[\"actions_output\"][n])):  \n",
    "        money, weapon = index2name(data_5shot_e2_mask[\"actions_output\"][n][i])\n",
    "        print(\"output:\", weapon, money)\n",
    "        money, weapon = index2name(data_5shot_e2_mask[\"actions_label\"][n][i])\n",
    "        print(\"label:\", weapon, money)\n",
    "        print()"
   ]
  },
  {
   "cell_type": "code",
   "execution_count": 67,
   "metadata": {},
   "outputs": [
    {
     "name": "stdout",
     "output_type": "stream",
     "text": [
      "5shot_e2_mask\n",
      "0.429215426831009\n"
     ]
    }
   ],
   "source": [
    "print(\"5shot_e2_mask\")\n",
    "r = 0.0\n",
    "t = 0\n",
    "for n in range(10):\n",
    "    for i in range(len(data_5shot_e2_mask[\"actions_output\"][n])):  \n",
    "        m, weapon = index2name(data_5shot_e2_mask[\"actions_output\"][n][i])\n",
    "        m_l, weapon = index2name(data_5shot_e2_mask[\"actions_label\"][n][i])\n",
    "        if m_l != 0:\n",
    "            r += m / m_l\n",
    "            t += 1\n",
    "\n",
    "print(r / t)"
   ]
  },
  {
   "cell_type": "code",
   "execution_count": null,
   "metadata": {},
   "outputs": [],
   "source": [
    "with open('outputs_5shot_emb2_weighed.pkl', 'rb') as f:\n",
    "    data_5shot_e2_w = pickle.load(f)\n",
    "\n",
    "print(\"5shot_emb2_weighted\")\n",
    "for n in range(10):\n",
    "    for i in range(len(data_5shot_e2_w[\"actions_output\"][n])):\n",
    "        money, weapon = index2name(data_5shot_e2_w[\"actions_output\"][n][i])\n",
    "        print(\"output:\", weapon, money)\n",
    "        money, weapon = index2name(data_5shot_e2_w[\"actions_label\"][n][i])\n",
    "        print(\"label:\", weapon, money)\n",
    "        print()"
   ]
  },
  {
   "cell_type": "code",
   "execution_count": 66,
   "metadata": {},
   "outputs": [
    {
     "name": "stdout",
     "output_type": "stream",
     "text": [
      "5shot_emb2_weighted\n",
      "0.6141109458710194\n"
     ]
    }
   ],
   "source": [
    "print(\"5shot_emb2_weighted\")\n",
    "r = 0.0\n",
    "t = 0\n",
    "for n in range(10):\n",
    "    for i in range(len(data_5shot_e2_w[\"actions_output\"][n])):  \n",
    "        m, weapon = index2name(data_5shot_e2_w[\"actions_output\"][n][i])\n",
    "        m_l, weapon = index2name(data_5shot_e2_w[\"actions_label\"][n][i])\n",
    "        if m_l != 0:\n",
    "            r += m / m_l\n",
    "            t += 1\n",
    "\n",
    "print(r / t)"
   ]
  },
  {
   "cell_type": "code",
   "execution_count": null,
   "metadata": {},
   "outputs": [],
   "source": [
    "with open('outputs_5shot_emb2_attn2_weighed.pkl', 'rb') as f:\n",
    "    data_5shot_e2_attn2_w = pickle.load(f)\n",
    "\n",
    "print(\"5shot_emb2_attn2_weighted\")\n",
    "for n in range(10):\n",
    "    for i in range(len(data_5shot_e2_attn2_w[\"actions_output\"][n])):  \n",
    "#     print(data[\"actions_output\"][0])\n",
    "        money, weapon = index2name(data_5shot_e2_attn2_w[\"actions_output\"][n][i])\n",
    "        print(\"output:\", weapon, money)\n",
    "        money, weapon = index2name(data_5shot_e2_attn2_w[\"actions_label\"][n][i])\n",
    "        print(\"label:\", weapon, money)\n",
    "        print()"
   ]
  },
  {
   "cell_type": "code",
   "execution_count": 65,
   "metadata": {},
   "outputs": [
    {
     "name": "stdout",
     "output_type": "stream",
     "text": [
      "5shot_emb2_attn2_weighted\n",
      "0.6621171400319928\n"
     ]
    }
   ],
   "source": [
    "print(\"5shot_emb2_attn2_weighted\")\n",
    "r = 0.0\n",
    "t = 0\n",
    "for n in range(10):\n",
    "    for i in range(len(data_5shot_e2_attn2_w[\"actions_output\"][n])):  \n",
    "        m, weapon = index2name(data_5shot_e2_attn2_w[\"actions_output\"][n][i])\n",
    "        m_l, weapon = index2name(data_5shot_e2_attn2_w[\"actions_label\"][n][i])\n",
    "        if m_l != 0:\n",
    "            r += m / m_l\n",
    "            t += 1\n",
    "\n",
    "print(r / t)"
   ]
  },
  {
   "cell_type": "code",
   "execution_count": null,
   "metadata": {},
   "outputs": [],
   "source": []
  }
 ],
 "metadata": {
  "kernelspec": {
   "display_name": "Python 3",
   "language": "python",
   "name": "python3"
  },
  "language_info": {
   "codemirror_mode": {
    "name": "ipython",
    "version": 3
   },
   "file_extension": ".py",
   "mimetype": "text/x-python",
   "name": "python",
   "nbconvert_exporter": "python",
   "pygments_lexer": "ipython3",
   "version": "3.6.5"
  }
 },
 "nbformat": 4,
 "nbformat_minor": 2
}
